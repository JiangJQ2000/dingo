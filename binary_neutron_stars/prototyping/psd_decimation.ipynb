{
 "cells": [
  {
   "cell_type": "markdown",
   "source": [
    "# PSD decimation\n",
    "In this notebook, we investigate the effect of decimation on noisy data. In frequency\n",
    "domain, we assume the data in each bin to consist of signal plus noise,\n",
    "$$d_i = h_i + n_i.$$\n",
    "We assume the noise to be Gaussian, with a variance determined by the PSD,\n",
    "$$n_i \\sim \\mathcal{N}\\left(\\mu_i = 0,\n",
    "\\,\\sigma_i^2 = {\\rm PSD}_i \\cdot \\hat{\\sigma}^2\n",
    "\\right).$$\n",
    "The power spectral density (PSD) is a property of the detector, and the term\n",
    "$\\hat{\\sigma} = \\sqrt{\\frac{w}{4\\Delta f}}$ (referred to as `noise_std` within dingo)\n",
    "depends on the data conditioning, specifically on the window factor $w$ and the\n",
    "frequency resolution $\\Delta f$.\n",
    "\n",
    "### Decimation\n",
    "We decimate the GW data by averaging nearby frequency bins\n",
    "$$\\bar{d}_j = \\frac{1}{N} \\sum_{i = i_j}^{i_j + N - 1} \\left(h_i + n_i\\right)\n",
    "= \\bar{h}_j + \\bar{n}_j,$$\n",
    "where the decimated noise is given by a sum of $N$ gaussian random variables with\n",
    "variances $\\sigma_i^2$. The sum of $N$ gaussian random variables is normally distributed\n",
    "$$\n",
    "\\bar{n}_j \\sim \\frac{1}{N}\\mathcal{N}\\left(\\sum \\mu_i,\\, \\sum \\sigma_i^2\\right)\n",
    "= \\mathcal{N}\\left(\\frac{\\sum \\mu_i}{N},\\, \\frac{\\sum \\sigma_i^2}{N^2}\\right)\n",
    "= \\mathcal{N}\\left(0,\\, \\frac{\\sum \\sigma_i^2}{N^2}\\right).\n",
    "$$\n",
    "The noise variance of a bin in the decimated domain is thus given by\n",
    "$$\n",
    "\\bar{\\sigma}_j = \\frac{1}{N^2} \\sum {\\rm PSD}_i \\cdot \\hat{\\sigma}^2\n",
    "= \\frac{\\hat{\\sigma}^2}{N} \\cdot \\frac{\\sum {\\rm PSD}_i}{N}\n",
    "= \\frac{w}{4\\Delta f\\cdot N} \\cdot \\frac{\\sum {\\rm PSD}_i}{N}\n",
    "$$\n",
    "\n"
   ],
   "metadata": {
    "collapsed": false,
    "pycharm": {
     "name": "#%% md\n"
    }
   }
  }
 ],
 "metadata": {
  "kernelspec": {
   "display_name": "Python 3",
   "language": "python",
   "name": "python3"
  },
  "language_info": {
   "codemirror_mode": {
    "name": "ipython",
    "version": 2
   },
   "file_extension": ".py",
   "mimetype": "text/x-python",
   "name": "python",
   "nbconvert_exporter": "python",
   "pygments_lexer": "ipython2",
   "version": "2.7.6"
  }
 },
 "nbformat": 4,
 "nbformat_minor": 0
}