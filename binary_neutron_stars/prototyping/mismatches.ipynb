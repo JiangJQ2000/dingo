{
 "cells": [
  {
   "cell_type": "markdown",
   "metadata": {
    "collapsed": true,
    "pycharm": {
     "name": "#%% md\n"
    }
   },
   "source": [
    "This notebook explores the accuracy loss we obtain as a consequence of applying\n",
    "decimation and heterodyning in the incorrect order at training time.\n",
    "\n",
    "At inference, we take the measured gravitational-wave strain, heterodyne it with\n",
    "respect to `chirp_mass_proxy` and then decimate to the `MultibandedFrequencyDomain`.\n",
    "During training we need to apply the analogous transformations, i.e., (a1) heterodyne\n",
    "with `chirp_mass_proxy` and (a2) decimate. However, for space reasons we store\n",
    "decimated waveforms. This requires us to (b1) heterodyne with `chirp_mass`, (b2)\n",
    "decimate and (b3) change heterodyning from `chirp_mass` to `chirp_mass_proxy`. Due to\n",
    "the decimation step, `(b1,b2,b3)` is not identical to `(a1,a2)`. We here check that the\n",
    " mismatches that arise as a consequence of this are indeed small."
   ]
  },
  {
   "cell_type": "code",
   "execution_count": null,
   "outputs": [],
   "source": [
    "import numpy as np\n",
    "\n",
    "np.random.seed(1)\n",
    "import yaml\n",
    "import matplotlib.pyplot as plt\n",
    "from torchvision.transforms import Compose\n",
    "\n",
    "from dingo.gw.domains import build_domain, FrequencyDomain\n",
    "from dingo.gw.prior import build_prior_with_defaults\n",
    "from dingo.gw.waveform_generator import WaveformGenerator\n",
    "from dingo.gw.dataset.generate_dataset import (\n",
    "    WaveformDataset,\n",
    "    generate_parameters_and_polarizations,\n",
    "    train_svd_basis,\n",
    ")\n",
    "from dingo.gw.SVD import ApplySVD\n",
    "from dingo.gw.gwutils import get_mismatch\n",
    "\n",
    "from multibanded_frequency_domain import MultibandedFrequencyDomain\n",
    "from multibanding_utils import (\n",
    "    get_periods,\n",
    "    number_of_zero_crossings,\n",
    "    get_decimation_bands_adaptive,\n",
    "    get_decimation_bands_from_chirp_mass,\n",
    "    duration_LO,\n",
    ")\n",
    "from heterodyning import factor_fiducial_waveform, change_heterodyning\n",
    "from bns_transforms import HeterodynePhase, ApplyDecimation"
   ],
   "metadata": {
    "collapsed": false,
    "pycharm": {
     "name": "#%%\n"
    }
   }
  },
  {
   "cell_type": "code",
   "execution_count": null,
   "outputs": [],
   "source": [
    "with open(\"waveform_dataset_settings.yaml\", \"r\") as f:\n",
    "    settings = yaml.safe_load(f)\n",
    "num_processes = 10"
   ],
   "metadata": {
    "collapsed": false,
    "pycharm": {
     "name": "#%%\n"
    }
   }
  },
  {
   "cell_type": "code",
   "execution_count": 1,
   "outputs": [
    {
     "ename": "NameError",
     "evalue": "name 'build_domain' is not defined",
     "output_type": "error",
     "traceback": [
      "\u001B[0;31m---------------------------------------------------------------------------\u001B[0m",
      "\u001B[0;31mNameError\u001B[0m                                 Traceback (most recent call last)",
      "Cell \u001B[0;32mIn[1], line 1\u001B[0m\n\u001B[0;32m----> 1\u001B[0m ufd \u001B[38;5;241m=\u001B[39m \u001B[43mbuild_domain\u001B[49m(settings[\u001B[38;5;124m\"\u001B[39m\u001B[38;5;124mdomain\u001B[39m\u001B[38;5;124m\"\u001B[39m])\n\u001B[1;32m      2\u001B[0m prior \u001B[38;5;241m=\u001B[39m build_prior_with_defaults(settings[\u001B[38;5;124m\"\u001B[39m\u001B[38;5;124mintrinsic_prior\u001B[39m\u001B[38;5;124m\"\u001B[39m])\n\u001B[1;32m      3\u001B[0m waveform_generator \u001B[38;5;241m=\u001B[39m WaveformGenerator(domain\u001B[38;5;241m=\u001B[39mufd, \u001B[38;5;241m*\u001B[39m\u001B[38;5;241m*\u001B[39msettings[\u001B[38;5;124m\"\u001B[39m\u001B[38;5;124mwaveform_generator\u001B[39m\u001B[38;5;124m\"\u001B[39m])\n",
      "\u001B[0;31mNameError\u001B[0m: name 'build_domain' is not defined"
     ]
    }
   ],
   "source": [
    "ufd = build_domain(settings[\"domain\"])\n",
    "prior = build_prior_with_defaults(settings[\"intrinsic_prior\"])\n",
    "waveform_generator = WaveformGenerator(domain=ufd, **settings[\"waveform_generator\"])\n",
    "waveform_generator_het = WaveformGenerator(\n",
    "    domain=ufd, transform=HeterodynePhase(ufd), **settings[\"waveform_generator\"]\n",
    ")\n",
    "# generate polarizations\n",
    "parameters_het, polarizations_het = generate_parameters_and_polarizations(\n",
    "    waveform_generator_het, prior, 100, num_processes\n",
    ")"
   ],
   "metadata": {
    "collapsed": false,
    "pycharm": {
     "name": "#%%\n"
    }
   }
  },
  {
   "cell_type": "code",
   "execution_count": null,
   "outputs": [],
   "source": [
    "bands = get_decimation_bands_adaptive(\n",
    "    ufd,\n",
    "    np.concatenate(list(polarizations_het.values())),\n",
    "    min_num_bins_per_period=16,\n",
    "    delta_f_max=3.0,\n",
    ")\n",
    "mfd = MultibandedFrequencyDomain(bands, ufd)\n",
    "print(len(mfd))\n",
    "print(bands)\n",
    "# Compute mismatches: multiband->heterodyne vs. heterodyne->decimate\n",
    "transforms = Compose([HeterodynePhase(ufd), ApplyDecimation(mfd)])\n",
    "waveform_generator_het_dec = WaveformGenerator(\n",
    "    domain=ufd, transform=transforms, **settings[\"waveform_generator\"]\n",
    ")"
   ],
   "metadata": {
    "collapsed": false,
    "pycharm": {
     "name": "#%%\n"
    }
   }
  },
  {
   "cell_type": "code",
   "execution_count": null,
   "outputs": [],
   "source": [
    "# _het:   heterodyned with true chirp_mass\n",
    "# _hetp:  heterodyned with perturbed chirp_mass, chirp_mass_proxy = chirp_mass + eps\n",
    "eps = 0.003\n",
    "params = dict(parameters_het.iloc[0])\n",
    "params[\"chirp_mass_proxy\"] = params[\"chirp_mass\"] + eps\n",
    "pols_het_dec = waveform_generator_het_dec.generate_hplus_hcross(params)\n",
    "\n",
    "# the proper way to do it:\n",
    "# (a1): heterodyne\n",
    "# (a2): decimate\n",
    "het_transform = HeterodynePhase(waveform_generator.domain)\n",
    "pols = waveform_generator.generate_hplus_hcross(params)\n",
    "sample = {\n",
    "    \"waveform\": pols,\n",
    "    \"parameters\": {\"chirp_mass\": params[\"chirp_mass_proxy\"]},\n",
    "}\n",
    "pols_hetp = het_transform(sample)[\"waveform\"]\n",
    "pols_hetp_dec = {\n",
    "    pol_name: mfd.decimate(pol)\n",
    "    for pol_name, pol in pols_hetp.items()\n",
    "}\n",
    "\n",
    "# the way we will have to do it in training:\n",
    "# (b1): heterodyne w.r.t. true chirp mass\n",
    "# (b2): decimate\n",
    "# (b3): change heterodyning from chirp_mass to chirp_mass_proxy\n",
    "pols_het_dec = waveform_generator_het_dec.generate_hplus_hcross(params)\n",
    "pols_het_dec_hetp = {\n",
    "    pol_name: change_heterodyning(\n",
    "        pol,\n",
    "        mfd,\n",
    "        {\"chirp_mass\": params[\"chirp_mass\"]},\n",
    "        {\"chirp_mass\": params[\"chirp_mass_proxy\"]},\n",
    "    )\n",
    "    for pol_name, pol in pols_het_dec.items()\n",
    "}"
   ],
   "metadata": {
    "collapsed": false,
    "pycharm": {
     "name": "#%%\n"
    }
   }
  },
  {
   "cell_type": "code",
   "execution_count": null,
   "outputs": [],
   "source": [
    "{\n",
    "    pol_name: get_mismatch(pols_hetp_dec[pol_name], pols_het_dec_hetp[pol_name], mfd)\n",
    "    for pol_name in pols_hetp.keys()\n",
    "}"
   ],
   "metadata": {
    "collapsed": false,
    "pycharm": {
     "name": "#%%\n"
    }
   }
  },
  {
   "cell_type": "code",
   "execution_count": null,
   "outputs": [],
   "source": [
    "plt.plot(ufd(), pols_hetp[\"h_plus\"])\n",
    "plt.plot(mfd(), pols_het_dec_hetp[\"h_plus\"])\n",
    "plt.show()\n",
    "\n",
    "plt.plot(pols_hetp_dec[\"h_plus\"])\n",
    "plt.plot(pols_het_dec_hetp[\"h_plus\"])\n",
    "plt.plot((pols_hetp_dec[\"h_plus\"] - pols_het_dec_hetp[\"h_plus\"])*100)\n",
    "plt.show()"
   ],
   "metadata": {
    "collapsed": false,
    "pycharm": {
     "name": "#%%\n"
    }
   }
  },
  {
   "cell_type": "code",
   "execution_count": 16,
   "outputs": [
    {
     "data": {
      "text/plain": "{'chirp_mass': 1.000171547511743,\n 'mass_ratio': 0.7761697269279196,\n 'phase': 5.75292436401179,\n 'a_1': 0.6815291198620839,\n 'a_2': 0.03199983595733824,\n 'tilt_1': 1.1904449391652707,\n 'tilt_2': 0.5754620283942509,\n 'phi_12': 3.8570658115645595,\n 'phi_jl': 3.677852836781032,\n 'theta_jn': 0.4203860104715331,\n 'lambda_1': 3758.538604596334,\n 'luminosity_distance': 100.0,\n 'geocent_time': 0.0}"
     },
     "execution_count": 16,
     "metadata": {},
     "output_type": "execute_result"
    }
   ],
   "source": [
    "dict(parameters_het.iloc[0])"
   ],
   "metadata": {
    "collapsed": false,
    "pycharm": {
     "name": "#%%\n"
    }
   }
  },
  {
   "cell_type": "code",
   "execution_count": null,
   "outputs": [],
   "source": [],
   "metadata": {
    "collapsed": false,
    "pycharm": {
     "name": "#%%\n"
    }
   }
  }
 ],
 "metadata": {
  "kernelspec": {
   "display_name": "Python 3",
   "language": "python",
   "name": "python3"
  },
  "language_info": {
   "codemirror_mode": {
    "name": "ipython",
    "version": 2
   },
   "file_extension": ".py",
   "mimetype": "text/x-python",
   "name": "python",
   "nbconvert_exporter": "python",
   "pygments_lexer": "ipython2",
   "version": "2.7.6"
  }
 },
 "nbformat": 4,
 "nbformat_minor": 0
}